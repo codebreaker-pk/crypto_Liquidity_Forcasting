{
 "cells": [
  {
   "cell_type": "code",
   "execution_count": 5,
   "id": "c4790908-1f5f-4947-93c9-5a61830bde2d",
   "metadata": {},
   "outputs": [
    {
     "name": "stdout",
     "output_type": "stream",
     "text": [
      "PROJECT_ROOT: C:\\Users\\krpra\\Desktop\\Project\\crypto_liquidity_project\n",
      "Expecting CSVs in: C:\\Users\\krpra\\Desktop\\Project\\crypto_liquidity_project\\data\\raw\n",
      "Existing CSVs: ['coin_gecko_2022-03-16.csv', 'coin_gecko_2022-03-17.csv']\n"
     ]
    }
   ],
   "source": [
    "from pathlib import Path\n",
    "import shutil\n",
    "\n",
    "# 1) Set project root = parent of notebooks/\n",
    "PROJECT_ROOT = Path.cwd().parent if Path.cwd().name == \"notebooks\" else Path.cwd()\n",
    "print(\"PROJECT_ROOT:\", PROJECT_ROOT)\n",
    "\n",
    "# 2) Ensure folders exist\n",
    "for p in [\"data/raw\",\"data/interim\",\"data/processed\",\"configs\"]:\n",
    "    (PROJECT_ROOT/p).mkdir(parents=True, exist_ok=True)\n",
    "\n",
    "# 3) Where are your CSVs now? If they’re outside the project, set this path:\n",
    "csv_source = PROJECT_ROOT / \"data\" / \"raw\"  # change if needed\n",
    "\n",
    "print(\"Expecting CSVs in:\", csv_source.resolve())\n",
    "print(\"Existing CSVs:\", [p.name for p in csv_source.glob(\"*.csv\")])\n"
   ]
  },
  {
   "cell_type": "code",
   "execution_count": null,
   "id": "130156cc-cfda-43d4-aeda-85e8d504fa5c",
   "metadata": {},
   "outputs": [],
   "source": []
  }
 ],
 "metadata": {
  "kernelspec": {
   "display_name": "Python 3 (ipykernel)",
   "language": "python",
   "name": "python3"
  },
  "language_info": {
   "codemirror_mode": {
    "name": "ipython",
    "version": 3
   },
   "file_extension": ".py",
   "mimetype": "text/x-python",
   "name": "python",
   "nbconvert_exporter": "python",
   "pygments_lexer": "ipython3",
   "version": "3.13.0"
  }
 },
 "nbformat": 4,
 "nbformat_minor": 5
}
